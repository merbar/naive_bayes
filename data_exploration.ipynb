{
 "cells": [
  {
   "cell_type": "code",
   "execution_count": 81,
   "metadata": {},
   "outputs": [
    {
     "name": "stdout",
     "output_type": "stream",
     "text": [
      "dict_keys(['labels', 'states'])\n",
      "total data points: 750\n"
     ]
    }
   ],
   "source": [
    "# data exploration\n",
    "# Frenet s/d coordinates\n",
    "# lane width = 4m\n",
    "\n",
    "import json\n",
    "import numpy as np\n",
    "\n",
    "with open('train.json', 'r') as f:\n",
    "    j = json.load(f)\n",
    "print(j.keys())\n",
    "X = j['states']\n",
    "X = np.array(X)\n",
    "Y = j['labels']\n",
    "Y = np.array(Y)\n",
    "print('total data points: {}'.format(len(X)))"
   ]
  },
  {
   "cell_type": "code",
   "execution_count": 82,
   "metadata": {
    "collapsed": true
   },
   "outputs": [],
   "source": [
    "# d-values seem biased where 0 is the center of the left lane.\n",
    "X[:,1] = X[:,1] + 2"
   ]
  },
  {
   "cell_type": "code",
   "execution_count": 83,
   "metadata": {},
   "outputs": [
    {
     "name": "stdout",
     "output_type": "stream",
     "text": [
      "lane change LEFT count: 214\n",
      "lane KEEP count: 316\n",
      "lane change RIGHT count: 220\n"
     ]
    }
   ],
   "source": [
    "left_i = [x for x in range(len(Y)) if Y[x]=='left']\n",
    "right_i = [x for x in range(len(Y)) if Y[x]=='right']\n",
    "keep_i = [x for x in range(len(Y)) if Y[x]=='keep']\n",
    "\n",
    "print('lane change LEFT count: {}'.format(len(left_i)))\n",
    "print('lane KEEP count: {}'.format(len(keep_i)))\n",
    "print('lane change RIGHT count: {}'.format(len(right_i)))"
   ]
  },
  {
   "cell_type": "code",
   "execution_count": 84,
   "metadata": {},
   "outputs": [
    {
     "name": "stdout",
     "output_type": "stream",
     "text": [
      "LANE CHANGE LEFT\n",
      "- sample data\n",
      "s: 34.768, d:  2.833, ds:  8.207, dd: -0.999\n",
      "s: 29.855, d:  3.206, ds: 11.047, dd: -1.475\n",
      "s:  9.096, d: 10.277, ds:  8.785, dd: -0.588\n",
      "s: 11.723, d:  9.286, ds:  7.804, dd: -0.388\n",
      "s: 17.432, d:  9.667, ds:  9.332, dd: -1.185\n",
      "- properties for all left lane changes\n",
      "min d:  1.786, max d: 10.927\n",
      "mean s: 19.714, mean d:  7.052, mean ds:  9.914, mean dd: -0.967\n",
      "\n",
      "LANE KEEP\n",
      "- sample data\n",
      "s: 35.549, d:  2.496, ds:  9.456, dd: -0.106\n",
      "s: 31.336, d:  9.637, ds: 10.394, dd:  0.248\n",
      "s: 22.156, d:  2.228, ds: 11.541, dd: -0.090\n",
      "s: 14.767, d:  2.214, ds:  9.530, dd: -0.002\n",
      "s:  6.449, d:  2.272, ds: 11.969, dd: -0.008\n",
      "- properties for all keep lane\n",
      "min d:  1.155, max d: 10.879\n",
      "mean s: 20.324, mean d:  5.680, mean ds:  9.999, mean dd:  0.006\n",
      "\n",
      "LANE CHANGE RIGHT\n",
      "- sample data\n",
      "s: 39.708, d:  9.605, ds:  8.160, dd:  0.402\n",
      "s: 22.956, d:  4.083, ds:  8.506, dd:  1.431\n",
      "s: 29.364, d:  8.735, ds: 10.044, dd:  2.243\n",
      "s:  3.192, d:  2.121, ds:  7.983, dd:  0.053\n",
      "s: 10.110, d:  3.030, ds: 12.016, dd:  0.521\n",
      "- properties for all right lane changes\n",
      "min d:  1.316, max d: 10.438\n",
      "mean s: 19.477, mean d:  4.934, mean ds:  9.947, mean dd:  0.954\n"
     ]
    }
   ],
   "source": [
    "print('LANE CHANGE LEFT')\n",
    "print('- sample data')\n",
    "for i in range(5):\n",
    "    print('s: {:6.3f}, d: {:6.3f}, ds: {:6.3f}, dd: {:6.3f}'.format(X[left_i[i]][0], X[left_i[i]][1], X[left_i[i]][2], X[left_i[i]][3]))\n",
    "max_d = X[left_i[0]][1]\n",
    "min_d = X[left_i[0]][1]\n",
    "for i in left_i:\n",
    "    if X[i][1] > max_d:\n",
    "        max_d = X[i][1]\n",
    "    if X[i][1] < min_d:\n",
    "        min_d = X[i][1]\n",
    "print('- properties for all left lane changes')\n",
    "print('min d: {:6.3f}, max d: {:6.3f}'.format(min_d, max_d))\n",
    "print('mean s: {:6.3f}, mean d: {:6.3f}, mean ds: {:6.3f}, mean dd: {:6.3f}'\n",
    "      .format(np.mean(X[left_i,0]), np.mean(X[left_i,1]), np.mean(X[left_i,2]), np.mean(X[left_i,3])))\n",
    "\n",
    "print('\\nLANE KEEP')\n",
    "print('- sample data')\n",
    "max_d = X[keep_i[0]][1]\n",
    "min_d = X[keep_i[0]][1]\n",
    "for i in range(5):\n",
    "    print('s: {:6.3f}, d: {:6.3f}, ds: {:6.3f}, dd: {:6.3f}'.format(X[keep_i[i]][0], X[keep_i[i]][1], X[keep_i[i]][2], X[keep_i[i]][3]))\n",
    "for i in keep_i:\n",
    "    if X[i][1] > max_d:\n",
    "        max_d = X[i][1]\n",
    "    if X[i][1] < min_d:\n",
    "        min_d = X[i][1]\n",
    "print('- properties for all keep lane')\n",
    "print('min d: {:6.3f}, max d: {:6.3f}'.format(min_d, max_d))\n",
    "print('mean s: {:6.3f}, mean d: {:6.3f}, mean ds: {:6.3f}, mean dd: {:6.3f}'\n",
    "      .format(np.mean(X[keep_i,0]), np.mean(X[keep_i,1]), np.mean(X[keep_i,2]), np.mean(X[keep_i,3])))\n",
    "\n",
    "print('\\nLANE CHANGE RIGHT')\n",
    "print('- sample data')\n",
    "max_d = X[right_i[0]][1]\n",
    "min_d = X[right_i[0]][1]\n",
    "for i in range(5):\n",
    "    print('s: {:6.3f}, d: {:6.3f}, ds: {:6.3f}, dd: {:6.3f}'.format(X[right_i[i]][0], X[right_i[i]][1], X[right_i[i]][2], X[right_i[i]][3]))\n",
    "print('- properties for all right lane changes')\n",
    "for i in right_i:\n",
    "    if X[i][1] > max_d:\n",
    "        max_d = X[i][1]\n",
    "    if X[i][1] < min_d:\n",
    "        min_d = X[i][1]\n",
    "print('min d: {:6.3f}, max d: {:6.3f}'.format(min_d, max_d))\n",
    "print('mean s: {:6.3f}, mean d: {:6.3f}, mean ds: {:6.3f}, mean dd: {:6.3f}'\n",
    "      .format(np.mean(X[right_i,0]), np.mean(X[right_i,1]), np.mean(X[right_i,2]), np.mean(X[right_i,3])))"
   ]
  },
  {
   "cell_type": "code",
   "execution_count": 77,
   "metadata": {},
   "outputs": [],
   "source": []
  }
 ],
 "metadata": {
  "kernelspec": {
   "display_name": "Python 3",
   "language": "python",
   "name": "python3"
  },
  "language_info": {
   "codemirror_mode": {
    "name": "ipython",
    "version": 3
   },
   "file_extension": ".py",
   "mimetype": "text/x-python",
   "name": "python",
   "nbconvert_exporter": "python",
   "pygments_lexer": "ipython3",
   "version": "3.5.2"
  }
 },
 "nbformat": 4,
 "nbformat_minor": 2
}
